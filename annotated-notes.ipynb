{
 "cells": [
  {
   "cell_type": "markdown",
   "source": [
    "# voyager 源码分析：\n",
    "\n",
    "\n",
    "## 注解说明：\n",
    "\n",
    "- ✅️ `# todo x`： 为注解标识符， 方便利用 IDE 的 TODO 工具，快速筛查注解点。\n",
    "\n",
    "![](./images/note-1.png)\n",
    "\n",
    "\n",
    "## 核心依赖库：\n",
    "\n",
    "- ✅️ [javascript](https://pypi.org/project/javascript/)\n",
    "    - https://github.com/extremeheat/JSPyBridge\n",
    "    - 基于此库， 实现在 python 中调用 js lib\n",
    "    - 项目依赖处： [Voyager.step](Voyager.step)\n",
    "\n",
    "## 源码入口：\n",
    "\n",
    "- ✅️ [voyager/voyager.py](voyager/voyager.py)\n",
    "\n",
    "\n"
   ],
   "metadata": {
    "collapsed": false
   }
  }
 ],
 "metadata": {
  "kernelspec": {
   "display_name": "Python 3",
   "language": "python",
   "name": "python3"
  },
  "language_info": {
   "codemirror_mode": {
    "name": "ipython",
    "version": 2
   },
   "file_extension": ".py",
   "mimetype": "text/x-python",
   "name": "python",
   "nbconvert_exporter": "python",
   "pygments_lexer": "ipython2",
   "version": "2.7.6"
  }
 },
 "nbformat": 4,
 "nbformat_minor": 0
}
