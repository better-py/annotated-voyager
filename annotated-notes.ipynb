{
 "cells": [
  {
   "cell_type": "markdown",
   "source": [
    "# voyager 源码分析：\n",
    "\n",
    "- ✅️[annotated-notes.md](annotated-notes.md): 笔记部分\n",
    "\n",
    "\n",
    "## 关键代码片段解析：\n",
    "\n",
    "\n",
    "### 项目入口:\n",
    "\n",
    "- ✅️ [voyager/voyager.py](voyager/voyager.py)\n",
    "\n",
    "\n",
    "### 核心方法 voyager.learn()"
   ],
   "metadata": {
    "collapsed": false
   }
  },
  {
   "cell_type": "code",
   "execution_count": null,
   "outputs": [],
   "source": [
    "#\n",
    "# todo x: 典型用例， 找到入口方法为 voyager.learn()\n",
    "#\n",
    "\n",
    "\n",
    "from voyager import Voyager\n",
    "\n",
    "# you can also use mc_port instead of azure_login, but azure_login is highly recommended\n",
    "azure_login = {\n",
    "    \"client_id\": \"YOUR_CLIENT_ID\",\n",
    "    \"redirect_url\": \"https://127.0.0.1/auth-response\",\n",
    "    \"secret_value\": \"[OPTIONAL] YOUR_SECRET_VALUE\",\n",
    "    \"version\": \"fabric-loader-0.14.18-1.19\",  # the version Voyager is tested on\n",
    "}\n",
    "openai_api_key = \"YOUR_API_KEY\"\n",
    "\n",
    "voyager = Voyager(\n",
    "    azure_login=azure_login,\n",
    "    openai_api_key=openai_api_key,\n",
    ")\n",
    "\n",
    "# start lifelong learning\n",
    "voyager.learn()"
   ],
   "metadata": {
    "collapsed": false,
    "pycharm": {
     "is_executing": true
    }
   }
  },
  {
   "cell_type": "markdown",
   "source": [],
   "metadata": {
    "collapsed": false
   }
  }
 ],
 "metadata": {
  "kernelspec": {
   "display_name": "Python 3",
   "language": "python",
   "name": "python3"
  },
  "language_info": {
   "codemirror_mode": {
    "name": "ipython",
    "version": 2
   },
   "file_extension": ".py",
   "mimetype": "text/x-python",
   "name": "python",
   "nbconvert_exporter": "python",
   "pygments_lexer": "ipython2",
   "version": "2.7.6"
  }
 },
 "nbformat": 4,
 "nbformat_minor": 0
}
